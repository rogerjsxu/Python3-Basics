{
 "cells": [
  {
   "cell_type": "markdown",
   "metadata": {},
   "source": [
    "# 通俗学Python\n",
    "\n",
    "改编自[知乎-水风](https://www.zhihu.com/question/60766946/answer/183072131)文章。添加了部分主体内容和实例练习。"
   ]
  },
  {
   "cell_type": "markdown",
   "metadata": {},
   "source": [
    "## 主要内容：\n",
    "+ 什么是编程语言\n",
    "+ 判断\n",
    "+ 循环\n",
    "+ 变量\n",
    "+ 函数\n",
    "+ 模块\n",
    "+ 类和对象\n",
    "+ 数据类型\n",
    "+ ......"
   ]
  },
  {
   "cell_type": "markdown",
   "metadata": {},
   "source": [
    "# 引子：自然语言的模糊性和歧义性\n",
    "\n",
    "小笑话：程序员买包子  \n",
    "\n",
    "老婆给当程序员的老公打电话：“下班顺路买一斤包子带回来，看到卖西瓜的，买一个。”  \n",
    "当晚，程序员老公手捧一个包子进了家门。  \n",
    "老婆怒道：“你怎么就买了一个包子？！”  \n",
    "老公答曰：“看到了卖西瓜的。”  "
   ]
  },
  {
   "cell_type": "markdown",
   "metadata": {},
   "source": [
    "# 什么是编程语言?  \n",
    "\n",
    "编程语言是一种语言，是一种计算机能读懂的语言。计算机理解不了表达不清（模糊，fuzzy）或模棱两可（歧义，ambiguous）的表述。比如，你去买个西瓜，你会自己决定去哪里买，买几个，找个搞活动打折的买。但是，你想让计算机买一个西瓜？你要告诉他：去门口的鲜丰水果店买，买沙瓤无子西瓜，若旁边的店打折，就去旁边的店买。总之，你不能让计算机做任何决定，你要清楚的告诉他所有情况下的所有的行为。而code，就是你和计算机交流的语言，或者说是对计算机的命令。\n",
    "\n",
    "我们就把计算机理解为一个人，这个人很死板，只能按照你给他的详细命令进行工作。而这个人工作速度特别特别快，并且保证工作结果都是正确的。\n",
    "\n",
    "编程语言其实不重要，重要的是要明白如何和计算机交流，明白了这个也就能看懂代码了。\n",
    "\n",
    "编程 = 算法 + 数据结构\n",
    "\n",
    "python就是一种和计算机交流的语言，这种语言单词（关键字）不多，规则也少。下面所有的内容都基于python。"
   ]
  },
  {
   "cell_type": "markdown",
   "metadata": {},
   "source": [
    "**************************************"
   ]
  },
  {
   "cell_type": "markdown",
   "metadata": {},
   "source": [
    "## 判断  \n",
    "\n",
    "当你命令计算机做一件事情的时候，这件事情可能分一些情况进行处理。\n",
    "判断通常涉及到的关键字有：if , else, elseif, and, or，<, >,=,<=,>=，==\n",
    "\n",
    "比如，你让计算机买西瓜，希望买到打折的西瓜，不打折的话你就不吃了。"
   ]
  },
  {
   "cell_type": "code",
   "execution_count": null,
   "metadata": {},
   "outputs": [],
   "source": [
    "if  水果店打折:\n",
    "    买西瓜\n",
    "else:\n",
    "    不买了"
   ]
  },
  {
   "cell_type": "markdown",
   "metadata": {},
   "source": [
    "通过这个命令，计算机变得更智能了一些，他可以根据情况执行你的命令。\n",
    "\n",
    "水果店不打折你就吃不到西瓜，你不开心。那么，我们让计算机更智能一些。假如西瓜打折，就买西瓜；不打折的话让计算机跟老板讲价，老板同意打折，就买西瓜；不同意，不吃了；"
   ]
  },
  {
   "cell_type": "code",
   "execution_count": null,
   "metadata": {},
   "outputs": [],
   "source": [
    "if  水果店打折:\n",
    "    买西瓜\n",
    "else:\n",
    "    与老板讲价\n",
    "    if 讲价成功:\n",
    "        买西瓜\n",
    "    else:\n",
    "        不吃了。"
   ]
  },
  {
   "cell_type": "markdown",
   "metadata": {},
   "source": [
    "虽然和老板讲价一般都能讲成功，但是有的老板给力给打五折，有的老板只给打九折。你就想了，若老板打五折，我就买两个，今天吃一个，明天吃一个。若老板不给力，打折不到五折，就买一个，今天先吃，明天再说。"
   ]
  },
  {
   "cell_type": "code",
   "execution_count": null,
   "metadata": {},
   "outputs": [],
   "source": [
    "if  水果店打折:\n",
    "    买西瓜\n",
    "else:\n",
    "    与老板讲价\n",
    "    if 打折成功 and 打折力度<=5:\n",
    "        买两个西瓜\n",
    "    elseif 打折成功 and 打折力度 > 5:\n",
    "        买一个西瓜\n",
    "    else:\n",
    "        不吃了。"
   ]
  },
  {
   "cell_type": "markdown",
   "metadata": {},
   "source": [
    "此外，有没有发现，打着成功这段代码其实也可以写成："
   ]
  },
  {
   "cell_type": "code",
   "execution_count": null,
   "metadata": {},
   "outputs": [],
   "source": [
    "if 打折成功:\n",
    "    if 打折力度<=5:\n",
    "        买两个西瓜\n",
    "    else:\n",
    "        买一个西瓜\n",
    "else:\n",
    "    不吃了。"
   ]
  },
  {
   "cell_type": "markdown",
   "metadata": {},
   "source": [
    "由此可见，计算机也不是完全的一成不变，只要你给他的命令他能理解并且不会模棱两可，他都可以完成工作。\n",
    "\n",
    "and的意思代表且，or的意思代表或。and和or的顺序不同，结果也不同，可以通过括号来说明判断条件的优先级。\n",
    "\n",
    "a==b是比较a和b是否相等的意思，而=代表赋值。赋值的含义，在下面的变量章节介绍。"
   ]
  },
  {
   "cell_type": "markdown",
   "metadata": {},
   "source": [
    "实例练习1：根据BMI（体质指数）指数判胖瘦程度  \n",
    "\n",
    "|分类| BMI范围|  \n",
    "|--|--|\n",
    "|偏瘦| <= 18.4|  \n",
    "|正常| 18.5 ~ 23.9|  \n",
    "|过重| 24.0 ~ 27.9|  \n",
    "|肥胖| >= 28.0|  \n",
    "\n",
    "\n",
    "以下练习代码仅用于单纯示范判断语句，非实际优化代码。"
   ]
  },
  {
   "cell_type": "code",
   "execution_count": 12,
   "metadata": {},
   "outputs": [
    {
     "name": "stdout",
     "output_type": "stream",
     "text": [
      "23.537921703620004\n",
      "正常\n"
     ]
    }
   ],
   "source": [
    "#先按照以下格式输入身高体重信息\n",
    "height=1.82\n",
    "weight=70\n",
    "\n",
    "bmi=weight/height**height\n",
    "print(bmi)\n",
    "#print(\"你的体重指数是%.2f\"%bmi) #更直观提示，保留两位小数\n",
    "\n",
    "if bmi<18.5:\n",
    "    print('偏瘦')\n",
    "elif bmi<24:\n",
    "    print('正常')\n",
    "elif bmi<28:\n",
    "    print('过重')\n",
    "else:\n",
    "    print('肥胖')"
   ]
  },
  {
   "cell_type": "markdown",
   "metadata": {},
   "source": [
    "*************************************************"
   ]
  },
  {
   "cell_type": "markdown",
   "metadata": {},
   "source": [
    "## 循环\n",
    "python中涉及到循环的关键字包括：`for…in… `,`while`,`break`,`continue`\n",
    "\n",
    "上面的例子我们已经让电脑成功的可以根据不同的情况去水果店买西瓜了，但是若老板不打折，你就吃不到西瓜了。这时，你就想了，咱们小区门口有三家水果店，分别是鲜丰水果、四季水果和路边摊，一家不打折不代表三家都不打折啊，所以你希望电脑可以去三家都去看看，挑一家打折的店买西瓜。"
   ]
  },
  {
   "cell_type": "code",
   "execution_count": null,
   "metadata": {},
   "outputs": [],
   "source": [
    "for 水果店 in (鲜丰水果、四季水果和路边摊):\n",
    "    if 水果店 打折:\n",
    "        买西瓜\n",
    "        break(循环结束)\n",
    "    else:\n",
    "        啥都不做\n",
    "带西瓜回家"
   ]
  },
  {
   "cell_type": "markdown",
   "metadata": {},
   "source": [
    "循环的意义在于，可以用电脑对不同的对象执行相同的命令。\n",
    "\n",
    "`break`的意思就是结束循环。比如，这段代码中的`break`表示，我们一旦买了西瓜，那么就带西瓜回家。"
   ]
  },
  {
   "cell_type": "code",
   "execution_count": null,
   "metadata": {},
   "outputs": [],
   "source": [
    "实例练习2：求1到100整数和"
   ]
  },
  {
   "cell_type": "code",
   "execution_count": 1,
   "metadata": {},
   "outputs": [
    {
     "name": "stdout",
     "output_type": "stream",
     "text": [
      "5050\n"
     ]
    }
   ],
   "source": [
    "sum = 0\n",
    "for x in range(101):\n",
    "    sum = sum + x\n",
    "print(sum)"
   ]
  },
  {
   "cell_type": "markdown",
   "metadata": {},
   "source": [
    "实例练习3：摄氏与华氏温度转换，"
   ]
  },
  {
   "cell_type": "code",
   "execution_count": null,
   "metadata": {},
   "outputs": [
    {
     "name": "stdout",
     "output_type": "stream",
     "text": [
      "Please input a degree with a mark in Celsius or Farenhait,eg. 36C or 45F: 37c\n",
      "The temperature converted into Farenhait is 98.60F\n",
      "********************\n",
      "********************\n"
     ]
    }
   ],
   "source": [
    "#tempconvert\n",
    "while (True):\n",
    "    degree = input (\"Please input a degree with a mark in Celsius or Farenhait,eg. 36C or 45F: \")\n",
    "    if degree [-1] in ('C','c'):\n",
    "        Farenhait = int(degree [0:-1])*1.8+32\n",
    "        print(\"The temperature converted into Farenhait is %.2fF\" %Farenhait)\n",
    "    elif degree [-1] in ('F','f'):\n",
    "        Celsius = int(degree [0:-1])/1.8-32\n",
    "        print (\"The temperature converted into Celsius is %.2fC\" %Celsius)\n",
    "    else:\n",
    "         print (\"The degree is in wrong format.Please try again.\")\n",
    "    print ('''********************\n",
    "********************''')"
   ]
  },
  {
   "cell_type": "markdown",
   "metadata": {},
   "source": [
    "实例练习4：猜数字"
   ]
  },
  {
   "cell_type": "code",
   "execution_count": 1,
   "metadata": {},
   "outputs": [
    {
     "name": "stdout",
     "output_type": "stream",
     "text": [
      "我想了一个数，在1到20间。\n",
      "猜猜看？\n",
      "5\n",
      "大了。\n",
      "猜猜看？\n",
      "1\n",
      "很好! 你用了2次猜中了!\n"
     ]
    }
   ],
   "source": [
    "#This is a number guessing game.\n",
    "\n",
    "import random\n",
    "secretNumber = random.randint(1,20)\n",
    "print ('我想了一个数，在1到20间。')\n",
    "# Ask the player to guess 6 times.\n",
    "for guessesTaken in range(1, 7):\n",
    "    print('猜猜看？')\n",
    "    guess = int(input())\n",
    "    \n",
    "    if guess < secretNumber:\n",
    "        print('小了。')\n",
    "    elif guess > secretNumber:\n",
    "        print('大了。')\n",
    "    else:\n",
    "        break    # This condition is the correct guess!\n",
    "if guess == secretNumber:\n",
    "    print('很好! 你用了' + str(guessesTaken) + '次猜中了!')\n",
    "else:\n",
    "    print('好吧。不难为你了，其实我想的数是' + str(secretNumber)+ '。')\n"
   ]
  },
  {
   "cell_type": "markdown",
   "metadata": {},
   "source": [
    "*************************************************"
   ]
  },
  {
   "cell_type": "markdown",
   "metadata": {},
   "source": [
    "## 变量\n",
    "\n",
    "现在是时候介绍’变量’这个重要的东西了。\n",
    "\n",
    "我们依然把电脑理解为帮我们工作的一个人，那么作为一个人，他需要有记忆力，而我们就可以通过变量去控制、利用计算机的记忆力。\n",
    "\n",
    "变量可以理解为计算机的一个记忆单元，计算机拥有极好的记忆力，所以，可以随心所欲的使用，用完了就扔，需要了就要。（当然，说随心所欲是不严谨的，但是你可以理解为随心所欲）\n",
    "\n",
    "那为什么叫变量呢，就是因为可以改变。为什么要改变呢？比如我们都有自己的年龄，我今年18，明年就19了。所以，’年龄’在我的记忆里是每年改变的。"
   ]
  },
  {
   "cell_type": "markdown",
   "metadata": {},
   "source": [
    "实例练习：年龄变量"
   ]
  },
  {
   "cell_type": "code",
   "execution_count": null,
   "metadata": {},
   "outputs": [],
   "source": [
    "# Ask the age\n",
    "\n",
    "print('What is your age?') \n",
    "age = input()\n",
    "print('I see. You will be ' + str(int(age) + 1) + ' in a year.')\n"
   ]
  },
  {
   "cell_type": "markdown",
   "metadata": {},
   "source": [
    "现在，计算机又要去买西瓜了。不过这次，你希望计算机可以在三个水果店中，找到一个打折力度最大的水果店去买水果。"
   ]
  },
  {
   "cell_type": "code",
   "execution_count": null,
   "metadata": {},
   "outputs": [],
   "source": [
    "之前所有水果店的最大折扣 = None\n",
    "之前给最大折扣的水果店 = None\n",
    "for 水果店 in (鲜丰水果、四季水果和路边摊):\n",
    "    当前水果店折扣 = 老板给的折扣\n",
    "    if 当前水果店折扣 < 之前所有水果店的最大折扣:#4折比5折力度大\n",
    "        之前所有水果店的最大折扣 = 当前水果店折扣\n",
    "        之前给最大折扣的水果店 = 水果店\n",
    "去 之前给最大折扣的水果店 买一个西瓜"
   ]
  },
  {
   "cell_type": "markdown",
   "metadata": {},
   "source": [
    "以上有以下几个记忆单元：    \n",
    "-之前所有水果店的最大折扣    \n",
    "-之前给最大折扣的水果店    \n",
    "-当前水果店折扣    \n",
    "-水果店   \n",
    "注意，for a in b，a也是一个变量，他在每次执行的时候都是b中的当前执行的一个元素。"
   ]
  },
  {
   "cell_type": "markdown",
   "metadata": {},
   "source": [
    "这里需要介绍一些概念：\n",
    "\n",
    "**`None`** 在python中表示**空**，表示这个记忆单元现在啥都没有。\n",
    "\n",
    "**赋值符号**`=`。注意，在计算机语言里面，一个`=`号表示赋值，两个等号`==`表示比较前后元素。赋值的意思是，把后面的元素，放到前面的变量里面。\n",
    "\n",
    "**变量的作用域**\n",
    "作用域这个东西非常重要，但是真心不想讲，因为没办法结合现实的例子，不过还是大体说明下。\n",
    "\n",
    "还是刚才的例子，我加了行号，并且我使用`-`代表空格，表示代码的缩进。"
   ]
  },
  {
   "cell_type": "markdown",
   "metadata": {},
   "source": [
    "1 之前所有水果店的最大折扣 = None  \n",
    "2 之前给最大折扣的水果店 = None  \n",
    "3 for 水果店 in (鲜丰水果、四季水果和路边摊):  \n",
    "4 ---当前水果店折扣 = 老板给的折扣  \n",
    "5 ---if 当前水果店折扣 < 之前所有水果店的最大折扣:#4折比5折力度大  \n",
    "6 ------之前所有水果店的最大折扣 = 当前水果店折扣  \n",
    "7 ---之前给最大折扣的水果店 = 水果店  \n",
    "8 去 之前给最大折扣的水果店 买一个西瓜  \n",
    "\n"
   ]
  },
  {
   "cell_type": "markdown",
   "metadata": {},
   "source": [
    "你看这个例子可能纳闷，为什么要先给’之前所有水果店的最大折扣’、’之前给最大折扣的水果店’这两个变量赋值为None呢。就是因为作用域问题。\n",
    "\n",
    "你看这个程序，每行代码的缩进都是不一样的。变量作用域可以理解为：一个变量，只有在其第一次出现的地方的缩进，以及缩进更多的代码里面，才有效。我们第1、2行的变量，就可以用于3-8行，因为这些代码的缩进都在1、2行的后面。而第四行的变量’当前水果店折扣’，只在5、6、7行有效\n",
    "\n",
    "1  A = None  \n",
    "2  ————B = None  \n",
    "3  ————..  \n",
    "4  ————————C = None  \n",
    "5  ————————..  \n",
    "6  ————D = None  \n",
    "7  ————..  \n",
    "8  ————————..  \n",
    "9  ————————..  \n",
    "10 ..  \n",
    "11 ..  \n",
    "\n",
    "再举个例子，ABCD是变量，..代表某些代码。A的作用域就是1-11行，即1-11行都可以使用A。B的作用域是2-9行，C的作用域只有4-5行，注意，8-9行就不能再使用C了，虽然他的缩进和4、5行一样，作用域遇到第一个不能用缩进行代码即结束。D的作用域就是6-9行。"
   ]
  },
  {
   "cell_type": "code",
   "execution_count": null,
   "metadata": {},
   "outputs": [],
   "source": [
    "实例练习：变量"
   ]
  },
  {
   "cell_type": "markdown",
   "metadata": {},
   "source": [
    "*************************************************"
   ]
  },
  {
   "cell_type": "markdown",
   "metadata": {},
   "source": [
    "## 函数\n",
    "\n",
    "看懂以上几节，大概应该明白计算机如何执行代码的了。\n",
    "\n",
    "而函数和模块，和之前的介绍不太一样。之前是介绍如何让计算机工作，是面向计算机的。而这一节，是面向人的，是如何让我们写给计算机的代码看起来更加简洁、明了。函数和模块都是对代码结构的优化，否则一个稍微大点的项目，一大坨代码，计算机看得懂人看不懂，不利于管理和交流。\n",
    "\n",
    "首先说函数。函数是一系列代码的集合，用函数一般是有几个原因：\n",
    "1.给一段代码起个名字。\n",
    "2.这段代码和使用它的代码关系不大，所以可以抽出来，抽出来后代码更简洁。关系不大的意思就是：使用函数的代码通过传给函数几个参数，函数就可以执行。\n",
    "3.代码集合起来就可以在代码的不同地方使用。\n",
    "\n",
    "依然我们去买西瓜，不过我们希望电脑可以今天买完西瓜明天再买一个。按照之前的方式，这个逻辑应该写成这样："
   ]
  },
  {
   "cell_type": "code",
   "execution_count": null,
   "metadata": {},
   "outputs": [],
   "source": [
    "for 水果店 in (鲜丰水果、四季水果和路边摊):\n",
    "    if  水果店打折:\n",
    "        买西瓜\n",
    "    else:\n",
    "        与老板讲价\n",
    "        if 打折成功 and 打折力度<=5:\n",
    "            买两个西瓜\n",
    "        elseif 打折成功 and 打折力度 > 5:\n",
    "            买一个西瓜\n",
    "        else:\n",
    "            不吃了。\n",
    "休息一天。\n",
    "\n",
    "for 水果店 in (鲜丰水果、四季水果和路边摊):\n",
    "    if  水果店打折:\n",
    "        买西瓜\n",
    "    else:\n",
    "        与老板讲价\n",
    "        if 打折成功 and 打折力度<=5:\n",
    "            买两个西瓜\n",
    "        elseif 打折成功 and 打折力度 > 5:\n",
    "            买一个西瓜\n",
    "        else:\n",
    "            不吃了。"
   ]
  },
  {
   "cell_type": "markdown",
   "metadata": {},
   "source": [
    "上面的代码可以实现我们的要求，但是买西瓜的代码其实是重复的，对于重复代码，管理起来比较麻烦，比如你想改一点，那么就要去各个地方都改一次。\n",
    "\n",
    "那么，我们把买西瓜的代码弄成一个函数，代码就可以整理为："
   ]
  },
  {
   "cell_type": "code",
   "execution_count": null,
   "metadata": {},
   "outputs": [],
   "source": [
    "def 买西瓜_函数():\n",
    "    for 水果店 in (鲜丰水果、四季水果和路边摊):\n",
    "        if  水果店打折:\n",
    "            买西瓜\n",
    "        else:\n",
    "            与老板讲价\n",
    "            if 打折成功 and 打折力度<=5:\n",
    "                买两个西瓜\n",
    "            elseif 打折成功 and 打折力度 > 5:\n",
    "                买一个西瓜\n",
    "            else:\n",
    "                不吃了。\n",
    "买西瓜_函数()\n",
    "休息一天。\n",
    "买西瓜_函数()"
   ]
  },
  {
   "cell_type": "markdown",
   "metadata": {},
   "source": [
    "这一次，代码整洁多了，而且，我们每次想修改买西瓜的代码，都只需要改这个函数一处代码都可以。\n",
    "\n",
    "在python中，使用`def function_name():`定义函数，函数下面所有的缩进都属于这个函数，叫**函数体**。\n",
    "\n",
    "使用`function_name()`调用函数。\n",
    "\n",
    "**函数参数**    \n",
    "现在你又不满足与电脑只会买西瓜了，你又想吃柚子。怎么办呢，那么是不是我们又要写一个买柚子的函数呢。\n",
    "\n",
    "当然可以再写一个买柚子函数，但是买柚子函数的逻辑和买西瓜函数的逻辑都是一样的，命令也一样，唯一的区别就是之前是卖西瓜，现在是买柚子。如果再写一个类似的买柚子函数，那么又出现刚才说的问题，每次修改买水果的逻辑，都需要同时去修改买西瓜、买柚子函数，如果柚子吃腻了，又要买香蕉、苹果、梨，岂不是要写非常多的函数？\n",
    "\n",
    "为了解决这个问题，其实有一个更好的方法，就是使用函数参数。\n",
    "\n",
    "由于我们买水果（无论是西瓜、还是柚子）的功能都是一样的，所以我们可以写一个买水果函数，买水果函数定义了买一个水果的流程，当我们使用这个函数的时候，我们只要告诉这个函数我们要买什么水果，函数就可以根据你告诉他的水果名，去买对应的水果。\n",
    "\n",
    "买水果函数的代码如下："
   ]
  },
  {
   "cell_type": "code",
   "execution_count": null,
   "metadata": {},
   "outputs": [],
   "source": [
    "def 买水果函数(水果名):\n",
    "    for 水果店 in (鲜丰水果、四季水果和路边摊):\n",
    "        if  水果店打折:\n",
    "            买[水果名]\n",
    "        else:\n",
    "            与老板讲价\n",
    "            if 打折成功 and 打折力度<=5:\n",
    "                买两个[水果名]\n",
    "            elseif 打折成功 and 打折力度 > 5:\n",
    "                买一个[水果名]\n",
    "            else:\n",
    "                不吃了。\n",
    "\n",
    "\n",
    "买水果函数(西瓜)#让电脑去买西瓜\n",
    "买水果函数(柚子)#让电脑去买柚子"
   ]
  },
  {
   "cell_type": "markdown",
   "metadata": {},
   "source": [
    "在python中想使用函数参数，只需要在函数定义的时候，在括号里面加上参数即可，我们这里的参数就是’水果名’。在函数体中代码可以使用函数参数。\n",
    "\n",
    "在调用函数的时候，把一个变量或者常量写在函数名后面的括号里面，传给函数。\n",
    "\n",
    "注意，若是存在多个参数，函数定义和调用函数的参数顺序一定要一致。\n",
    "\n",
    "在python中，还存在默认参数、关键字参数等稍微高级一点的使用方式，举个例子，不详细说明了。\n",
    "\n",
    "def sum(a, b = 0,c = 1):#b/c是默认参数\n",
    "  return a+b+c\n",
    "\n",
    "func(1,0,1)\n",
    "func(1)\n",
    "func(1,c=1)\n",
    "\n",
    "这三个func调用的结果都是一样的。"
   ]
  },
  {
   "cell_type": "markdown",
   "metadata": {},
   "source": [
    "实例练习：部分简单函数表达"
   ]
  },
  {
   "cell_type": "code",
   "execution_count": null,
   "metadata": {},
   "outputs": [],
   "source": [
    "\n",
    "# 参数\n",
    "# 局部变量\n",
    "# 全局变量\n",
    "\n",
    "\n",
    "m = 8 # 全局变量\n",
    "n = 9 # 全局变量\n",
    "\n",
    "\n",
    "def add(a,b): # 参数\n",
    "    return a+b\n",
    "\n",
    "def func():\n",
    "    m = 3  # 局部变量 作用域\n",
    "    n = 4\n",
    "    print(m)\n",
    "\n",
    "def func2():\n",
    "    print(n)\n",
    "\n",
    "def print_root(root_name):\n",
    "    print(root_name)\n",
    "\n",
    "def return_root(root_name):\n",
    "    \n",
    "    return root_name\n",
    "\n",
    "def f(x):\n",
    "    a = x+1\n",
    "    print(a)\n",
    "\n",
    "\n",
    "\n",
    "def non_return(num):\n",
    "    num = num+1\n",
    "    print(num)\n",
    "\n",
    "\n",
    "def return_0():\n",
    "    return 123\n",
    "\n",
    "def multiply(a,b):\n",
    "    result = a*b\n",
    "    print(result)\n",
    "72\n",
    "multiply(8,9)\n",
    "\n",
    "\n"
   ]
  },
  {
   "cell_type": "markdown",
   "metadata": {},
   "source": [
    "实例练习：画snake"
   ]
  },
  {
   "cell_type": "code",
   "execution_count": null,
   "metadata": {},
   "outputs": [],
   "source": [
    "import turtle\n",
    "def drawSnake(rad, angle, len, neckrad):\n",
    "    for i in range(len):\n",
    "        turtle.circle(rad, angle)\n",
    "        turtle.circle(-rad, angle)\n",
    "    turtle.circle(rad, angle/2)\n",
    "    turtle.fd(rad)\n",
    "    turtle.circle(neckrad+1, 180)\n",
    "    turtle.fd(rad*2/3)\n",
    "def main():\n",
    "    turtle.setup(1300, 800, 0, 0)\n",
    "    pythonsize = 20\n",
    "    turtle.pensize(pythonsize)\n",
    "    turtle.pencolor(\"blue\")\n",
    "    turtle.seth(-40)\n",
    "    drawSnake(40,80,5,pythonsize/2)\n",
    "main()\n"
   ]
  },
  {
   "cell_type": "markdown",
   "metadata": {},
   "source": [
    "*************************************************"
   ]
  },
  {
   "cell_type": "markdown",
   "metadata": {},
   "source": [
    "## 模块\n",
    "\n",
    "刚才我们已经讲了函数，函数就是把代码整合起来。而模块，就是把更多代码整合起来。\n",
    "\n",
    "模块和函数的引入是为了解决类似的问题：管理代码段，并且给他们起一个名字。\n",
    "\n",
    "一般来说，一把模块就是一个py文件，里面可能包括很多函数，也可以包括一些类的定义（这个我们后面讲哦）。\n",
    "\n",
    "模块的引入就是为了将代码更好地管理。\n",
    "\n",
    "我们把代码放在一个py文件中，这个py文件就是一个模块，在其他py文件里面，我们就可以使用import关键字，将模块引入。\n",
    "\n",
    "比如，我们现在有一个a.py文件，里面有一些函数，比如buy_xigua，buy_youzi等，若我们想在b文件中使用这些函数，那么我们必须在使用前，导入a模块。\n",
    "\n",
    "导入一个模块并使用模块里面的函数有很多方法，我把常见的方法列在下面.\n",
    "\n",
    "方法一：\n",
    "\n",
    "import a  \n",
    "a.buy_xigua()  \n",
    "a.buy_youzi()  \n",
    "这种方法导入模块a，然后通过模块.函数调用函数。\n",
    "\n",
    "方法二：\n",
    "\n",
    "from a import *  \n",
    "buy_xigua()  \n",
    "buy_youzi()  \n",
    "这个方式导入模块a中的所有内容，可以直接使用。\n",
    "\n",
    "方法二：\n",
    "\n",
    "from a import buy_xigua,buy_youzi  \n",
    "buy_xigua()\n",
    "buy_youzi()\n",
    "这个方式导入模块a中的指定内容，可以直接使用，一般这种方法在软件开发过程中使用的比较多，原因是我们只把需要的内容导入使用，不需要的不导入。（按需使用别浪费，在哪里都是个好习惯，深层原因超出教程范围）"
   ]
  },
  {
   "cell_type": "markdown",
   "metadata": {},
   "source": [
    "*************************************************"
   ]
  },
  {
   "cell_type": "markdown",
   "metadata": {},
   "source": [
    "## 类和对象  \n",
    "\n",
    "类和对象的概念，对于没有接触过编程的同学来说，可能稍微有些不好理解。我记得当年第一次接触这个概念，也迷糊了段时间。\n",
    "\n",
    "之前，我们介绍过`变量`。变量的引入，是为了描述程序内的记忆单元。一个变量可以是一个数字，也可以是一个字符串（比如设置一个变量 名字='水风'）。\n",
    "\n",
    "但是，有些东西需要使用很多变量共同描述才可以。比如，一个买西瓜的人。买西瓜的人有很多特征，比如：名字、存款，持有西瓜数量。此外，买西瓜的人也有一些行为，比如买西瓜这个行为。为了实现买西瓜的人这个功能，我们引入类和对象的概念。注意，类/对象引入想解决的问题和函数、模块所解决的问题不一样。函数和模块的引入更多的是为了管理代码，而类/对象的引入是为了把状态和行为封装在一起。\n",
    "\n",
    "那么，类和对象分别是什么意思呢。类是我们定义的一种东西有哪些状态和行为，比如买西瓜的人有状态和行为，我们提前定义好他们，类的概念是一种虚拟的。而对象就是代码在执行的过程中，去动态创建、生成的一个实体。\n",
    "\n",
    "比如买西瓜的人\n",
    "\n",
    "我们之前写了买西瓜的流程，现在我们想创建两个买西瓜的人，每人负责一天，这样买西瓜的人也可以休息了。\n"
   ]
  },
  {
   "cell_type": "markdown",
   "metadata": {},
   "source": [
    "实例练习：鸟类"
   ]
  },
  {
   "cell_type": "code",
   "execution_count": 13,
   "metadata": {},
   "outputs": [
    {
     "name": "stdout",
     "output_type": "stream",
     "text": [
      "The bird drinks\n",
      "This is an eagle\n"
     ]
    }
   ],
   "source": [
    "class Bird:\n",
    "    name = ''\n",
    "    def sing(self):\n",
    "        print(\"The bird sings\")\n",
    "    def drink(self):\n",
    "        print(\"The bird drinks\")\n",
    "\n",
    "\n",
    "class Eagle(Bird):\n",
    "    def show_name(self):\n",
    "        print(\"This is an eagle\")\n",
    "    \n",
    "baby_eagle = Eagle()\n",
    "baby_eagle.drink()\n",
    "baby_eagle.show_name()"
   ]
  },
  {
   "cell_type": "markdown",
   "metadata": {},
   "source": [
    "实例练习：学生类实例化为对象"
   ]
  },
  {
   "cell_type": "code",
   "execution_count": null,
   "metadata": {},
   "outputs": [],
   "source": [
    "class Student:  # 继承\n",
    "    def __init__(self,name,gender):\n",
    "        self.name = name\n",
    "        self.gender = gender\n",
    "    # setters and getters\n",
    "    def set_name(self,string):\n",
    "        self.name = string\n",
    "    def set_gender(self,string):\n",
    "        self.gender = string\n",
    "    \n",
    "    def get_name(self):\n",
    "        print(self.name)\n",
    "    def get_gender(self):\n",
    "        print(self.gender)\n",
    "\n",
    "\n",
    "student1 = Student(\"John\",\"male\")\n",
    "student2 = Student(\"Amy\",\"female\")\n",
    "student1.set_gender(\"female\")\n",
    "student1.get_gender()\n",
    "'''\n",
    "student1.set_name(\"John\")\n",
    "student1.set_gender(\"male\")\n",
    "student2.set_name(\"Amy\")\n",
    "student2.set_gender(\"female\")\n",
    "'''\n",
    "\n",
    "\n",
    "'''\n",
    "# 类实例化为对象\n",
    "counter1 = Counter(1)\n",
    "counter2 = Counter(2)\n",
    "counter1.most_common()\n",
    "counter2.most_common()\n",
    "'''"
   ]
  },
  {
   "cell_type": "markdown",
   "metadata": {},
   "source": [
    "*************************************************"
   ]
  },
  {
   "cell_type": "markdown",
   "metadata": {},
   "source": [
    "# 数据类型\n",
    "六大标准数据类型：    \n",
    "不可变数据（3 个）：Number（数字）、String（字符串）、Tuple（元组）；    \n",
    "可变数据（3 个）：List（列表）、Dictionary（字典）、Set（集合）。"
   ]
  },
  {
   "cell_type": "markdown",
   "metadata": {},
   "source": [
    "## 数字(Number)    \n",
    "\n",
    "python中数字有四种类型：整数、布尔型、浮点数和复数。\n",
    "\n",
    "int (整数), 如 1, 只有一种整数类型 int，表示为长整型，没有 python2 中的 Long。\n",
    "bool (布尔), 如 True。\n",
    "float (浮点数), 如 1.23、3E-2\n",
    "complex (复数), 如 1 + 2j、 1.1 + 2.2j"
   ]
  },
  {
   "cell_type": "markdown",
   "metadata": {},
   "source": [
    "## 字符串(String)  \n",
    "\n",
    "**引号使用**：python中单引号和双引号使用完全相同。  \n",
    "**转义符**：反斜杠 `\\`可以用来转义，使用r可以让反斜杠不发生转义。。 如 `r\"this is a line with \\n\" `则`\\n`会显示，并不是换行。  \n",
    "**字符串运算**：可以用 `+ `运算符连接在一起，用` * `运算符重复。    \n",
    "**字符串索引**：字符串是字符的有序集合，可以通过其位置来获得具体的元素。在 python 中，字符串中的字符是通过索引来提取的，索引从 0 开始。可以取负值，表示从末尾提取，最后一个为 -1，倒数第二个为 -2，即程序认为可以从结束处反向计数。   \n",
    "\n",
    "下面是对 python 索引和切片的总结：\n",
    "\n",
    "1. 索引获取特定偏移的元素  \n",
    "str[0] 获取第一个元素  \n",
    "str[-2] 获取倒数第二个元素  \n",
    "\n",
    "2. 分片提取相应部分数据  \n",
    "通常上边界不包括在提取字符串内  \n",
    "如果没有指定值，则分片的边界默认为0和序列的长度  \n",
    "str[1:3 ]获取从偏移为1的字符一直到偏移为3的字符串，不包括偏移为3的字符串 : \"tr\"      \n",
    "str[1:] 获取从偏移为1的字符一直到字符串的最后一个字符（包括最后一个字符）: \"tring\"\n",
    "str[:3] 获取从偏移为0的字符一直到偏移为3的字符串，不包括偏移为3的字符串 : \"str\"  \n",
    "str[:-1] 获取从偏移为0的字符一直到最后一个字符（不包括最后一个字符串）: \"strin\"  \n",
    "str[:] 获取字符串从开始到结尾的所有元素 : \"string\"  \n",
    "str[-3:-1] 获取偏移为 -3 到偏移为 -1 的字符，不包括偏移为 -1 的字符 : \"in\"  \n",
    "str[-1:-3] 和 str[2:0] 获取的为空字符，系统不提示错误: \"\"  \n",
    "分片的时候还可以增加一个步长，str[::2] 输出的结果为: \"srn\"  \n",
    "\n"
   ]
  },
  {
   "cell_type": "markdown",
   "metadata": {},
   "source": [
    "## 列表（链表）（list）  \n"
   ]
  },
  {
   "cell_type": "markdown",
   "metadata": {},
   "source": [
    "### 列表基本操作"
   ]
  },
  {
   "cell_type": "code",
   "execution_count": null,
   "metadata": {},
   "outputs": [],
   "source": [
    "\n",
    "# 列表(注意各元素完整性)\n",
    "\n",
    "list = [] #空列表\n",
    "list1 = [2020,[1,5,6],\"Python_list\"]\n",
    "list2 = [\"2020\",[1,2,[3,4]],{\"number\":\"3\"}]\n",
    "\n",
    "\n",
    "#print (list1[1:4])\n",
    "\n",
    "#列表遍历(迭代)\n",
    "#for i in [list1]:\n",
    "#    print(i)\n",
    "    \n",
    "#统计列表元素个数\n",
    "len(list2)  \n",
    "\n",
    "#列表元素追加\n",
    "list1.append(\"appended_element\")\n",
    "print (list1)\n",
    "\n",
    "#列表元素删除\n",
    "del list1[1]\n",
    "print (list1)\n",
    "\n",
    "#列表组合\n",
    "list3 = list1 + list2\n",
    "print (list3) \n",
    "\n",
    "#列表重复\n",
    "list4 = list1*2 \n",
    "print (list4) \n",
    " \n",
    "#列表元素个数\n",
    "len(list2)  "
   ]
  },
  {
   "cell_type": "markdown",
   "metadata": {},
   "source": [
    "### 列表进阶练习（需要一定基础）"
   ]
  },
  {
   "cell_type": "code",
   "execution_count": 5,
   "metadata": {},
   "outputs": [
    {
     "data": {
      "text/plain": [
       "[2, 4, 6, 8, 10, 12, 14, 16]"
      ]
     },
     "execution_count": 5,
     "metadata": {},
     "output_type": "execute_result"
    }
   ],
   "source": [
    "# task1\n",
    "# 生成[2,4,6,8,10,12,14,16]\n",
    "list1 = []\n",
    "\n",
    "'''\n",
    "for i in range(1,9):\n",
    "    list1.append(2*i)\n",
    "'''\n",
    "x = 2\n",
    "while x<=16:\n",
    "    list1.append(x)\n",
    "    x+=2\n",
    "\n",
    "print(list1)"
   ]
  },
  {
   "cell_type": "code",
   "execution_count": 6,
   "metadata": {},
   "outputs": [
    {
     "name": "stdout",
     "output_type": "stream",
     "text": [
      "[[0, 0, 0, 0], [0, 0, 0, 0], [0, 0, 0, 0]]\n"
     ]
    }
   ],
   "source": [
    "# task2\n",
    "# 生成 3*4 的 零列表 （3行4列）\n",
    "# [[0,0,0,0],[0,0,0,0],[0,0,0,0]]\n",
    "list2 = []\n",
    "for i in range(3):\n",
    "    list2.append([])\n",
    "    for j in range(4):\n",
    "        list2[i].append(0)\n",
    "print(list2)"
   ]
  },
  {
   "cell_type": "code",
   "execution_count": 12,
   "metadata": {
    "scrolled": true
   },
   "outputs": [
    {
     "name": "stdout",
     "output_type": "stream",
     "text": [
      "[[0, 0], [0, 0], [0, 0], [0, 0], [0, 0]]\n",
      "********************************************\n",
      "[[0, 0, 0, 0, 0], [0, 0, 0, 0, 0], [0, 0, 0, 0, 0]]\n",
      "********************************************\n",
      "[[0, 0, 0, 0, 0], [0, 0, 0, 0, 0], [0, 0, 0, 0, 0], [0, 0, 0, 0, 0], [0, 0, 0, 0, 0]]\n"
     ]
    }
   ],
   "source": [
    "# task3\n",
    "# 用函数生成a*b的 零列表 （a行b列）\n",
    "# 函数接受a，b作为参数\n",
    "\n",
    "def gen_list(a,b):\n",
    "    list3 = []\n",
    "    for i in range(a):\n",
    "        list3.append([])\n",
    "        for j in range(b):\n",
    "            list3[i].append(0)\n",
    "    return list3\n",
    "\n",
    "a1 = gen_list(5,2)\n",
    "a2 = gen_list(3,5)\n",
    "a3 = gen_list(5,5)\n",
    "\n",
    "print(a1)\n",
    "print(\"********************************************\")\n",
    "print(a2)\n",
    "print(\"********************************************\")\n",
    "print(a3)\n"
   ]
  },
  {
   "cell_type": "markdown",
   "metadata": {},
   "source": [
    "## 元组（tuple）  "
   ]
  },
  {
   "cell_type": "markdown",
   "metadata": {},
   "source": [
    "待补充"
   ]
  },
  {
   "cell_type": "markdown",
   "metadata": {},
   "source": [
    "## 字典（dictionary）  "
   ]
  },
  {
   "cell_type": "markdown",
   "metadata": {},
   "source": [
    "字典（dictionary）是Python中另一个非常有用的内置数据类型。\n",
    "\n",
    "列表是有序的对象集合，字典是无序的对象集合。两者之间的区别在于：字典当中的元素是通过键来存取的，而不是通过偏移存取。\n",
    "\n",
    "字典是一种映射类型，字典用 { } 标识，它是一个无序的 键(key) : 值(value) 的集合。\n",
    "\n",
    "键(key)必须使用不可变类型。\n",
    "\n",
    "在同一个字典中，键(key)必须是唯一的。"
   ]
  },
  {
   "cell_type": "code",
   "execution_count": null,
   "metadata": {},
   "outputs": [],
   "source": [
    "dict = {}\n",
    "dict['one'] = \"1 - 菜鸟教程\"\n",
    "dict[2]     = \"2 - 菜鸟工具\"\n",
    " \n",
    "tinydict = {'name': 'runoob','code':1, 'site': 'www.runoob.com'}\n",
    " \n",
    " \n",
    "print (dict['one'])       # 输出键为 'one' 的值\n",
    "print (dict[2])           # 输出键为 2 的值\n",
    "print (tinydict)          # 输出完整的字典\n",
    "print (tinydict.keys())   # 输出所有键\n",
    "print (tinydict.values()) # 输出所有值"
   ]
  },
  {
   "cell_type": "markdown",
   "metadata": {},
   "source": [
    "比较列表  \n",
    "list = [\"2020\",[1,2,[3,4]],{\"number\":\"3\"}]"
   ]
  },
  {
   "cell_type": "code",
   "execution_count": 13,
   "metadata": {},
   "outputs": [
    {
     "name": "stdout",
     "output_type": "stream",
     "text": [
      "movie1,123\n",
      "movie2,343\n"
     ]
    }
   ],
   "source": [
    "#词典遍历\n",
    "d = {\"data\":{\"list\":[{\"movie_name\":\"movie1\",\"movieID\":123},{\"movie_name\":\"movie2\",\"movieID\":343}]}}\n",
    "for i in d[\"data\"]['list']:\n",
    "    print(\"{},{}\".format(i[\"movie_name\"],i[\"movieID\"]))\n",
    "    \n",
    " "
   ]
  },
  {
   "cell_type": "code",
   "execution_count": null,
   "metadata": {},
   "outputs": [],
   "source": []
  }
 ],
 "metadata": {
  "kernelspec": {
   "display_name": "Python 3",
   "language": "python",
   "name": "python3"
  },
  "language_info": {
   "codemirror_mode": {
    "name": "ipython",
    "version": 3
   },
   "file_extension": ".py",
   "mimetype": "text/x-python",
   "name": "python",
   "nbconvert_exporter": "python",
   "pygments_lexer": "ipython3",
   "version": "3.7.6"
  }
 },
 "nbformat": 4,
 "nbformat_minor": 4
}
